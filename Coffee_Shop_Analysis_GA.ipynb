{
 "cells": [
  {
   "cell_type": "markdown",
   "id": "25d249eb",
   "metadata": {},
   "source": [
    "# Coffe Shop Analysis"
   ]
  },
  {
   "cell_type": "markdown",
   "id": "86a3e5fb",
   "metadata": {},
   "source": [
    "In this project, we've been hired by a large coffee shop with three locations in New York City. The data was provided internally by the comapany itself. They'd like to use analytics to identify factors that contribute to their succes, and ultimately to make data-informed decisions.\n",
    "\n",
    "Keep in mind that the data is limited, only containing data for the month of April, 2019. These are the specific questions to address this project:\n",
    "\n",
    "What kinds of products generate the most sales?\n",
    "What kinds of customers generate the most sales? Can you explain why?\n",
    "Which segment of its customer base should the company target a marketing campaign towards?"
   ]
  },
  {
   "cell_type": "markdown",
   "id": "d6ef7082",
   "metadata": {},
   "source": [
    "## Importing the Data and Various Python Packages"
   ]
  },
  {
   "cell_type": "markdown",
   "id": "7068fb94",
   "metadata": {},
   "source": [
    "Below I'm importing the data as well as various Python packages to aid the analysis"
   ]
  },
  {
   "cell_type": "code",
   "execution_count": 1,
   "id": "a2e2f0d0",
   "metadata": {
    "scrolled": true
   },
   "outputs": [
    {
     "data": {
      "text/plain": [
       "{'transaction_date': 73,\n",
       " 'transaction_time': 92,\n",
       " 'customer_id': 89,\n",
       " 'quantity': 96,\n",
       " 'line_item_amount': 88,\n",
       " 'unit_price': 86,\n",
       " 'product_group': 90,\n",
       " 'product_category': 90,\n",
       " 'product_type': 92,\n",
       " 'current_wholesale_price': 93,\n",
       " 'customer_since': 89,\n",
       " 'customer_birth_year': 89,\n",
       " 'customer_generation': 89}"
      ]
     },
     "execution_count": 1,
     "metadata": {},
     "output_type": "execute_result"
    }
   ],
   "source": [
    "# Sample data loaded into a DataFrame\n",
    "import pandas as pd\n",
    "import matplotlib.pyplot as plt\n",
    "\n",
    "# Coffee Shop provided data\n",
    "data = {\n",
    "    'transaction_date': ['2019-04-18', '2019-04-13', '2019-04-06', '2019-04-17', '2019-04-06', '2019-04-12', \n",
    "                         '2019-04-10', '2019-04-18', '2019-04-21', '2019-04-10', '2019-04-01', '2019-04-25', \n",
    "                         '2019-04-21', '2019-04-08', '2019-04-02', '2019-04-20', '2019-04-05', '2019-04-07', \n",
    "                         '2019-04-12', '2019-04-11', '2019-04-12', '2019-04-05', '2019-04-10', '2019-04-06', \n",
    "                         '2019-04-07', '2019-04-20', '2019-04-24', '2019-04-19', '2019-04-28', '2019-04-20', \n",
    "                         '2019-04-02', '2019-04-11', '2019-04-06', '2019-04-09', '2019-04-27', '2019-04-05', \n",
    "                         '2019-04-14', '2019-04-02', '2019-04-18', '2019-04-27', '2019-04-12', '2019-04-13', \n",
    "                         '2019-04-07', '2019-04-05', '2019-04-15', '2019-04-26', '2019-04-14', '2019-04-02', \n",
    "                         '2019-04-24', '2019-04-12', '2019-04-25', '2019-04-03', '2019-04-07', '2019-04-03', \n",
    "                         '2019-04-27', '2019-04-07', '2019-04-23', '2019-04-25', '2019-04-03', '2019-04-25', \n",
    "                         '2019-04-02', '2019-04-08', '2019-04-21', '2019-04-11', '2019-04-26', '2019-04-02', \n",
    "                         '2019-04-09', '2019-04-28', '2019-04-09', '2019-04-09', '2019-04-25', '2019-04-18', \n",
    "                         '2019-04-22'],\n",
    "    'transaction_time': ['6:33:22', '7:17:16', '16:27:42', '6:47:08', '17:33:47', '6:06:24', '7:09:32', '7:33:10', \n",
    "                         '14:53:54', '9:06:45', '15:54:39', '16:00:32', '8:56:46', '18:31:48', '17:02:59', '10:47:59', \n",
    "                         '10:44:39', '12:12:14', '6:50:31', '11:52:05', '6:57:55', '10:27:45', '11:14:09', '18:09:01', \n",
    "                         '4:56:41', '7:07:49', '16:31:04', '7:47:12', '17:39:39', '16:34:24', '18:50:47', '6:06:29', \n",
    "                         '18:09:21', '9:44:57', '10:05:25', '15:48:19', '11:11:59', '17:11:47', '6:32:31', '10:20:21', \n",
    "                         '17:14:53', '11:41:50', '12:00:24', '14:21:24', '12:09:51', '7:39:02', '9:30:08', '17:15:04', \n",
    "                         '13:11:40', '10:34:31', '9:48:24', '10:59:41', '7:30:36', '15:52:38', '10:58:44', '16:02:25', \n",
    "                         '5:17:51', '13:06:09', '10:35:20', '15:12:13', '8:16:51', '18:49:47', '20:20:16', '13:13:13', \n",
    "                         '14:53:33', '18:07:03', '9:42:25', '7:18:21', '17:18:31', '15:40:21', '9:48:27', '15:13:52', \n",
    "                         '10:08:48', '11:48:27', '9:48:23', '12:53:20', '6:33:12', '8:02:43', '18:52:46', '14:50:51', \n",
    "                         '17:12:27', '10:35:35', '18:16:20', '13:45:26', '9:36:27', '10:49:27', '15:20:06', '15:33:20', \n",
    "                         '9:53:08', '10:46:04', '9:46:58', '15:26:54'],\n",
    "    'customer_id': [None, 5655, 599, 5572, 5555, None, 8121, None, None, None, 781, None, None, None, 5754, 5667, 5736, \n",
    "                    188, None, None, None, 8372, None, 5872, None, None, None, None, None, None, 8447, None, 8378, None, \n",
    "                    None, 116, None, 19, None, 8478, None, None, 631, 8155, 5146, None, 8003, 8082, None, 5820, None, 8033, \n",
    "                    3, 664, None, None, None, 727, 777, 162, 5790, None, 5353, None, None, 235, None, None, 100, 240, 8394, \n",
    "                    8344, None, 734, 8206, 686, None, 350, 546, None, 548, 8227, 26, 289, 700, 8126, None, 8428, None],\n",
    "    'quantity': [1, 1, 1, 2, 2, 1, 1, 1, 2, 2, 2, 1, 1, 1, 1, 1, 2, 2, 1, 1, 1, 2, 2, 2, 2, 1, 3, 2, 2, 3, 2, 2, 1, 1, 1, \n",
    "                 1, 2, 2, 1, 1, 2, 2, 1, 1, 1, 1, 1, 2, 2, 1, 1, 2, 2, 3, 2, 2, 2, 2, 3, 1, 2, 1, 1, 1, 1, 2, 1, 1, 2, 1, \n",
    "                 2, 2, 1, 2, 1, 1, 1, 1, 1, 1, 2, 2, 1, 1, 1, 2, 1, 1, 1, 1, 1, 1, 1, 2, 2, 2],\n",
    "    'line_item_amount': [2.5, 3, 2.5, 6, 7, 3.1, 3, 14, 6, 9, 7, 3.75, 3.25, 3, 3, 3.25, 6.2, 6, 2.5, 3.75, 4.5, 8.5, 7.5, \n",
    "                         9, 4, 1, 6, 5, 6, 12, 6, 6, 3, 3.75, 2.5, 3.1, 1.6, 9.5, 3, 4.75, 7.5, 4.9, 2.45, 3.5, 3.1, 0.8, \n",
    "                         45, 5, 5, 4.5, 3.5, 6, 6, 6, 8, 8, 9.3, 4, 3.5, 3.5, 3.1, 3.5, 4.75, 2.5, 2, 2.1, 7.5, 5, 6, 3.1, \n",
    "                         7, 3.5, 3.5, 3.75, 4.75, 2.5, 2, 2.1, 7.5, 5, 6, 3.5, 3.75, 2.5, 4.4, 5, 9.25, 2.5],\n",
    "    'unit_price': [2.5, 3, 2.5, 3, 3.5, 3.1, 3, 14, 3, 4.5, 3.5, 3.75, 3.25, 3, 3, 3.25, 3.1, 3, 2.5, 3.75, 4.5, 4.25, \n",
    "                   3.75, 4.5, 2, 3.75, 2, 2.5, 3, 4, 3, 3, 3, 3.75, 2.5, 3.1, 0.8, 4.75, 3, 4.75, 3.75, 2.45, 3.5, 3.1, \n",
    "                   0.8, 45, 2.5, 2.5, 4.5, 3.5, 3, 3, 3, 4, 4, 3.1, 2, 3.5, 3.5, 3.1, 3.5, 4.75, 2.5, 2, 2.1, 3.75, 2.5, \n",
    "                    3, 3.1, 3.5, 3.5, 3.75, 4.75, 2.5, 2, 2.1, 3.75, 2.5, 3, 3.5, 3.75, 2.5, 2.2, 2.5, 9.25, 2.5],\n",
    "    'product_group': ['Beverages', 'Beverages', 'Beverages', 'Beverages', 'Beverages', 'Beverages', 'Beverages', \n",
    "                      'Merchandise', 'Beverages', 'Beverages', 'Beverages', 'Beverages', 'Food', 'Beverages', 'Food', \n",
    "                      'Food', 'Beverages', 'Beverages', 'Beverages', 'Beverages', 'Food', 'Beverages', 'Beverages', \n",
    "                      'Beverages', 'Beverages', 'Food', 'Beverages', 'Beverages', 'Beverages', 'Beverages', 'Beverages', \n",
    "                      'Beverages', 'Beverages', 'Beverages', 'Beverages', 'Beverages', 'Add-ons', 'Beverages', 'Beverages', \n",
    "                      'Beverages', 'Beverages', 'Beverages', 'Beverages', 'Beverages', 'Add-ons', 'Whole Bean/Teas', \n",
    "                      'Beverages', 'Beverages', 'Beverages', 'Beverages', 'Beverages', 'Beverages', 'Beverages', 'Beverages', \n",
    "                      'Beverages', 'Beverages', 'Beverages', 'Beverages', 'Beverages', 'Beverages', 'Beverages', 'Beverages', \n",
    "                      'Beverages', 'Beverages', 'Beverages', 'Beverages', 'Beverages', 'Beverages', 'Beverages', 'Beverages', \n",
    "                      'Beverages', 'Beverages', 'Beverages', 'Beverages', 'Beverages', 'Beverages', 'Beverages', 'Beverages', \n",
    "                      'Beverages', 'Beverages', 'Beverages', 'Beverages', 'Beverages', 'Beverages', 'Beverages', 'Beverages', \n",
    "                      'Beverages', 'Beverages', 'Beverages', 'Beverages'],\n",
    "    'product_category': ['Tea', 'Tea', 'Tea', 'Tea', 'Coffee', 'Tea', 'Tea', 'Branded', 'Tea', 'Drinking Chocolate', \n",
    "                         'Coffee', 'Coffee', 'Bakery', 'Coffee', 'Bakery', 'Bakery', 'Coffee', 'Coffee', 'Tea', 'Coffee', \n",
    "                         'Bakery', 'Coffee', 'Coffee', 'Drinking Chocolate', 'Coffee', 'Bakery', 'Coffee', 'Tea', 'Coffee', \n",
    "                         'Tea', 'Coffee', 'Tea', 'Coffee', 'Coffee', 'Tea', 'Tea', 'Flavours', 'Drinking Chocolate', \n",
    "                         'Coffee', 'Drinking Chocolate', 'Coffee', 'Coffee', 'Coffee', 'Coffee', 'Coffee', 'Flavours', \n",
    "                         'Coffee beans', 'Tea', 'Tea', 'Bakery', 'Bakery', 'Coffee', 'Coffee', 'Tea', 'Coffee', 'Coffee', \n",
    "                         'Tea', 'Tea', 'Coffee', 'Coffee', 'Coffee', 'Coffee', 'Coffee', 'Coffee', 'Tea', 'Tea', 'Tea', \n",
    "                         'Coffee', 'Coffee', 'Bakery', 'Bakery', 'Bakery', 'Coffee', 'Tea', 'Tea', 'Coffee', 'Coffee', \n",
    "                         'Coffee', 'Coffee', 'Tea', 'Coffee', 'Coffee', 'Coffee', 'Coffee', 'Coffee', 'Coffee', 'Tea', \n",
    "                         'Tea', 'Tea', 'Coffee'],\n",
    "    'product_type': ['Brewed herbal tea', 'Brewed Black tea', 'Brewed Chai tea', 'Brewed herbal tea', 'Organic brewed coffee', \n",
    "                     'Brewed Chai tea', 'Brewed herbal tea', 'Housewares', 'Brewed Chai tea', 'Hot chocolate', 'Organic brewed coffee', \n",
    "                     'Premium brewed coffee', 'Scone', 'Drip coffee', 'Scone', 'Scone', 'Premium brewed coffee', 'Drip coffee', \n",
    "                     'Brewed Black tea', 'Premium brewed coffee', 'Scone', 'Barista Espresso', 'Premium brewed coffee', 'Hot chocolate', \n",
    "                     'Gourmet brewed coffee', 'Pastry', 'Gourmet brewed coffee', 'Brewed herbal tea', 'Gourmet brewed coffee', \n",
    "                     'Brewed Chai tea', 'Gourmet brewed coffee', 'Brewed Green tea', 'Drip coffee', 'Premium brewed coffee', \n",
    "                     'Brewed Chai tea', 'Brewed Chai tea', 'Regular syrup', 'Hot chocolate', 'Barista Espresso', 'Hot chocolate', \n",
    "                     'Barista Espresso', 'Premium brewed coffee', 'Premium brewed coffee', 'Gourmet brewed coffee', 'Premium brewed coffee', \n",
    "                     'Regular syrup', 'Premium Beans', 'Brewed Chai tea', 'Brewed Chai tea', 'Scone', 'Pastry', 'Gourmet brewed coffee', \n",
    "                     'Gourmet brewed coffee', 'Brewed Black tea', 'Brewed herbal tea', 'Brewed Chai tea', 'Brewed herbal tea', \n",
    "                     'Brewed Chai tea', 'Premium brewed coffee', 'Gourmet brewed coffee', 'Biscotti', 'Hot chocolate', 'Premium brewed coffee', \n",
    "                     'Hot chocolate', 'Drip coffee', 'Drip coffee', 'Brewed Black tea', 'Brewed Chai tea', 'Brewed Chai tea', \n",
    "                     'Barista Espresso', 'Pastry', 'Gourmet brewed coffee', 'Gourmet brewed coffee', 'Barista Espresso', 'Barista Espresso', \n",
    "                     'Brewed herbal tea', 'Brewed herbal tea', 'Premium brewed coffee', 'Organic brewed coffee', 'Biscotti', \n",
    "                     'Brewed Chai tea', 'Drip coffee', 'Pastry', 'Pastry', 'Brewed Chai tea', 'Barista Espresso', 'Brewed Chai tea', \n",
    "                     'Gourmet brewed coffee', 'Gourmet brewed coffee', 'Brewed Chai tea', 'Green tea', 'Brewed Black tea'],\n",
    "    'current_wholesale_price': [0.63, 0.75, 0.63, 0.75, 0.7, 0.78, 0.75, 4.48, 0.75, 3.38, 0.7, 0.75, 2.11, 0.6, 1.95, \n",
    "                                2.11, 0.62, 0.6, 0.63, 0.75, 2.93, 0.85, 0.75, 3.38, 0.4, 2.44, 0.4, 0.63, 0.6, 1, 0.6, \n",
    "                                0.75, 0.6, 0.75, 0.63, 0.78, 0.04, 3.56, 0.6, 3.56, 0.75, 0.49, 0.49, 0.7, 0.62, 0.04, \n",
    "                                36, 0.63, 0.63, 2.93, 2.11, 0.6, 0.6, 0.63, 0.75, 1, 0.75, 1, 0.62, 0.4, 2.28, 2.63, 0.62, \n",
    "                                3.56, 0.5, 3.56, 0.75, 0.63, 0.63, 0.85, 2.44, 0.5, 0.4, 0.6, 0.75, 0.63, 0.75, 0.62, 0.7, \n",
    "                                2.28, 0.78, 0.5, 2.44, 2.44, 1, 0.75, 0.63, 0.4, 0.44, 2.5, 0.63, 0.63, 2.5],\n",
    "    'customer_since': [None, '2018-06-15', '2018-09-12', '2017-04-06', '2019-03-19', None, '2018-03-25', None, None, \n",
    "                       None, '2018-11-02', None, None, None, '2018-02-01', '2017-04-28', '2017-01-04', '2018-06-04', \n",
    "                       None, None, None, '2017-01-21', None, '2018-03-12', None, None, None, None, None, None, '2017-05-06', \n",
    "                       None, '2017-04-16', None, None, '2017-11-17', None, '2017-02-23', None, '2017-07-30', None, None, \n",
    "                       '2018-11-17', '2017-01-30', '2018-10-17', None, '2017-01-19', '2017-08-17', None, '2018-03-06', \n",
    "                       None, '2018-09-16', '2017-01-10', '2019-01-24', None, None, None, '2017-08-13', '2018-09-30', \n",
    "                       '2018-03-24', '2018-02-12', None, '2017-07-18', None, None, '2018-10-11', None, None, '2017-10-04', \n",
    "                       '2018-10-25', '2017-03-31', '2018-01-14', None, '2017-10-10', '2018-02-06', '2019-03-11', None, \n",
    "                       '2017-04-15', '2018-05-25', None, '2018-05-29', '2019-04-07', '2017-03-14', '2019-03-09', '2019-04-09', \n",
    "                       '2017-06-04', None, '2019-02-01', None],\n",
    "    'customer_birth_year': [None, 1993, 1988, 1956, 1999, None, 1996, None, None, None, 1991, None, None, None, 1990, 1983, \n",
    "                            1980, 1982, None, None, None, 1997, None, 1977, None, None, None, None, None, None, 2000, None, \n",
    "                            1998, None, None, 1969, None, 1953, None, 1971, None, None, 1992, 1987, 1996, None, 1991, 1981, \n",
    "                            None, 1991, None, 1994, 1950, 1996, None, None, None, 1964, 1989, 1977, 1975, None, 1985, None, \n",
    "                            None, 1990, None, None, 1967, 1991, 1991, 1988, None, 1967, 1986, 1999, None, 1956, 1981, None, \n",
    "                            1981, 1952, 1954, 1999, 2001, 1960, None, 1964, None],\n",
    "    'customer_generation': [None, 'Younger Millennials', 'Older Millennials', 'Baby Boomers', 'Gen Z', None, 'Gen Z', None, \n",
    "                            None, None, 'Younger Millennials', None, None, None, 'Younger Millennials', 'Older Millennials', \n",
    "                            'Older Millennials', 'Older Millennials', None, None, None, 'Gen Z', None, 'Gen X', None, None, \n",
    "                            None, None, None, None, 'Gen Z', None, 'Gen Z', None, None, 'Gen X', None, 'Baby Boomers', None, \n",
    "                            'Gen X', None, None, 'Younger Millennials', 'Older Millennials', 'Gen Z', None, 'Younger Millennials', \n",
    "                            'Older Millennials', None, 'Younger Millennials', None, 'Younger Millennials', 'Baby Boomers', 'Gen Z', \n",
    "                            None, None, None, 'Baby Boomers', 'Older Millennials', 'Gen X', 'Gen X', None, 'Older Millennials', \n",
    "                            None, None, 'Younger Millennials', None, None, 'Gen X', 'Younger Millennials', 'Younger Millennials', \n",
    "                            'Older Millennials', None, 'Gen X', 'Older Millennials', 'Gen Z', None, 'Baby Boomers', 'Older Millennials', \n",
    "                            None, 'Older Millennials', 'Baby Boomers', 'Baby Boomers', 'Gen Z', 'Gen Z', 'Baby Boomers', None, \n",
    "                            'Baby Boomers', None]\n",
    "}\n",
    "\n",
    "# Check for length consistency across all arrays\n",
    "lengths = {key: len(value) for key, value in data.items()}\n",
    "lengths\n"
   ]
  },
  {
   "cell_type": "markdown",
   "id": "abcb86a5",
   "metadata": {},
   "source": [
    "The data needs to be trimmed in order to analyze it"
   ]
  },
  {
   "cell_type": "code",
   "execution_count": 2,
   "id": "63eba25a",
   "metadata": {},
   "outputs": [
    {
     "data": {
      "text/plain": [
       "{'transaction_date': 73,\n",
       " 'transaction_time': 73,\n",
       " 'customer_id': 73,\n",
       " 'quantity': 73,\n",
       " 'line_item_amount': 73,\n",
       " 'unit_price': 73,\n",
       " 'product_group': 73,\n",
       " 'product_category': 73,\n",
       " 'product_type': 73,\n",
       " 'current_wholesale_price': 73,\n",
       " 'customer_since': 73,\n",
       " 'customer_birth_year': 73,\n",
       " 'customer_generation': 73}"
      ]
     },
     "execution_count": 2,
     "metadata": {},
     "output_type": "execute_result"
    }
   ],
   "source": [
    "# Trimming all arrays to 73 elements and filling in None for shorter arrays\n",
    "\n",
    "max_length = 73  # Based on the length of the 'transaction_date' array\n",
    "\n",
    "for key in data.keys():\n",
    "    if len(data[key]) > max_length:\n",
    "        data[key] = data[key][:max_length]  # Trim to max_length\n",
    "    elif len(data[key]) < max_length:\n",
    "        data[key].extend([None] * (max_length - len(data[key])))  # Fill with None\n",
    "\n",
    "# Check the lengths again to ensure they are all the same\n",
    "lengths = {key: len(value) for key, value in data.items()}\n",
    "lengths\n"
   ]
  },
  {
   "cell_type": "markdown",
   "id": "fbb0aaf4",
   "metadata": {},
   "source": [
    "## Investigate the Data"
   ]
  },
  {
   "cell_type": "markdown",
   "id": "4f33d9a4",
   "metadata": {},
   "source": [
    "Let's see what type of information this data has. I believe this data has not been cleaned either. We might have to do something about that"
   ]
  },
  {
   "cell_type": "code",
   "execution_count": 3,
   "id": "c0fffe58",
   "metadata": {},
   "outputs": [
    {
     "name": "stdout",
     "output_type": "stream",
     "text": [
      "<class 'pandas.core.frame.DataFrame'>\n",
      "RangeIndex: 73 entries, 0 to 72\n",
      "Data columns (total 13 columns):\n",
      " #   Column                   Non-Null Count  Dtype  \n",
      "---  ------                   --------------  -----  \n",
      " 0   transaction_date         73 non-null     object \n",
      " 1   transaction_time         73 non-null     object \n",
      " 2   customer_id              36 non-null     float64\n",
      " 3   quantity                 73 non-null     int64  \n",
      " 4   line_item_amount         73 non-null     float64\n",
      " 5   unit_price               73 non-null     float64\n",
      " 6   product_group            73 non-null     object \n",
      " 7   product_category         73 non-null     object \n",
      " 8   product_type             73 non-null     object \n",
      " 9   current_wholesale_price  73 non-null     float64\n",
      " 10  customer_since           36 non-null     object \n",
      " 11  customer_birth_year      36 non-null     float64\n",
      " 12  customer_generation      36 non-null     object \n",
      "dtypes: float64(5), int64(1), object(7)\n",
      "memory usage: 7.5+ KB\n"
     ]
    }
   ],
   "source": [
    "# Convert the dictionary to a pandas DataFrame\n",
    "df = pd.DataFrame(data)\n",
    "\n",
    "# Display DataFrame information\n",
    "df.info()"
   ]
  },
  {
   "cell_type": "code",
   "execution_count": 4,
   "id": "e3c569e2",
   "metadata": {},
   "outputs": [
    {
     "name": "stdout",
     "output_type": "stream",
     "text": [
      "  transaction_date transaction_time  customer_id  quantity  line_item_amount  \\\n",
      "0       2019-04-18          6:33:22          NaN         1               2.5   \n",
      "1       2019-04-13          7:17:16       5655.0         1               3.0   \n",
      "2       2019-04-06         16:27:42        599.0         1               2.5   \n",
      "3       2019-04-17          6:47:08       5572.0         2               6.0   \n",
      "4       2019-04-06         17:33:47       5555.0         2               7.0   \n",
      "\n",
      "   unit_price product_group product_category           product_type  \\\n",
      "0         2.5     Beverages              Tea      Brewed herbal tea   \n",
      "1         3.0     Beverages              Tea       Brewed Black tea   \n",
      "2         2.5     Beverages              Tea        Brewed Chai tea   \n",
      "3         3.0     Beverages              Tea      Brewed herbal tea   \n",
      "4         3.5     Beverages           Coffee  Organic brewed coffee   \n",
      "\n",
      "   current_wholesale_price customer_since  customer_birth_year  \\\n",
      "0                     0.63           None                  NaN   \n",
      "1                     0.75     2018-06-15               1993.0   \n",
      "2                     0.63     2018-09-12               1988.0   \n",
      "3                     0.75     2017-04-06               1956.0   \n",
      "4                     0.70     2019-03-19               1999.0   \n",
      "\n",
      "   customer_generation  \n",
      "0                 None  \n",
      "1  Younger Millennials  \n",
      "2    Older Millennials  \n",
      "3         Baby Boomers  \n",
      "4                Gen Z  \n",
      "<class 'pandas.core.frame.DataFrame'>\n",
      "RangeIndex: 73 entries, 0 to 72\n",
      "Data columns (total 13 columns):\n",
      " #   Column                   Non-Null Count  Dtype  \n",
      "---  ------                   --------------  -----  \n",
      " 0   transaction_date         73 non-null     object \n",
      " 1   transaction_time         73 non-null     object \n",
      " 2   customer_id              36 non-null     float64\n",
      " 3   quantity                 73 non-null     int64  \n",
      " 4   line_item_amount         73 non-null     float64\n",
      " 5   unit_price               73 non-null     float64\n",
      " 6   product_group            73 non-null     object \n",
      " 7   product_category         73 non-null     object \n",
      " 8   product_type             73 non-null     object \n",
      " 9   current_wholesale_price  73 non-null     float64\n",
      " 10  customer_since           36 non-null     object \n",
      " 11  customer_birth_year      36 non-null     float64\n",
      " 12  customer_generation      36 non-null     object \n",
      "dtypes: float64(5), int64(1), object(7)\n",
      "memory usage: 7.5+ KB\n",
      "None\n"
     ]
    }
   ],
   "source": [
    "# Display the first few rows of the DataFrame\n",
    "print(df.head())\n",
    "\n",
    "# Check the data types and missing values\n",
    "print(df.info())"
   ]
  },
  {
   "cell_type": "markdown",
   "id": "78beb036",
   "metadata": {},
   "source": [
    "After trimming the data to 73 entries, only 36 of those have 'rewards' customers. Any missing data has been filled in with 'None' or 'NaN'. Before we get to the analysis I'd like to make a statement. We DON'T have sufficient data to make any definitive recommendations. There are many factors missing such as time constrains, we only have data for this coffee shop, and the exact locations are missing. To name a few."
   ]
  },
  {
   "cell_type": "markdown",
   "id": "1daa250b",
   "metadata": {},
   "source": [
    "## Visualizing the Data"
   ]
  },
  {
   "cell_type": "markdown",
   "id": "e11ddf29",
   "metadata": {},
   "source": [
    "### What kinds of products generate the most sales?"
   ]
  },
  {
   "cell_type": "markdown",
   "id": "960eaca9",
   "metadata": {},
   "source": [
    "** Bar Plot of Total Sales by Product Category**\n",
    "\n",
    "The total sales of each product will be visualized by using a bar plot in decending order."
   ]
  },
  {
   "cell_type": "code",
   "execution_count": 5,
   "id": "bf199f85",
   "metadata": {},
   "outputs": [
    {
     "data": {
      "text/plain": [
       "product_category\n",
       "Coffee                169.25\n",
       "Tea                    98.10\n",
       "Coffee beans           45.00\n",
       "Bakery                 36.60\n",
       "Drinking Chocolate     32.25\n",
       "Branded                14.00\n",
       "Flavours                2.40\n",
       "Name: line_item_amount, dtype: float64"
      ]
     },
     "execution_count": 5,
     "metadata": {},
     "output_type": "execute_result"
    }
   ],
   "source": [
    "# Convert line_item_amount to numeric in case it's not\n",
    "df['line_item_amount'] = pd.to_numeric(df['line_item_amount'], errors='coerce')\n",
    "\n",
    "# Group by product_category and sum the line_item_amount\n",
    "total_sales_by_category = df.groupby('product_category')['line_item_amount'].sum()\n",
    "\n",
    "# Sort the results to identify the categories with the highest sales\n",
    "sorted_sales_by_category = total_sales_by_category.sort_values(ascending=False)\n",
    "\n",
    "# Display the results\n",
    "sorted_sales_by_category"
   ]
  },
  {
   "cell_type": "code",
   "execution_count": 7,
   "id": "deab3870",
   "metadata": {},
   "outputs": [
    {
     "data": {
      "image/png": "[encoded data removed]",
      "text/plain": [
       "<Figure size 1000x600 with 1 Axes>"
      ]
     },
     "metadata": {},
     "output_type": "display_data"
    }
   ],
   "source": [
    "# Define the colorblind-friendly color palette\n",
    "colorblind_palette = ['#0072B2', '#D55E00', '#CC79A7', '#F0E442', '#56B4E9', '#009E73', '#E69F00']\n",
    "\n",
    "# Plotting the bar chart with the colorblind-friendly palette\n",
    "plt.figure(figsize=(10, 6))\n",
    "sorted_sales_by_category.plot(kind='bar', color=colorblind_palette)\n",
    "\n",
    "# Adding title and labels\n",
    "plt.title('Total Sales by Product Category')\n",
    "plt.xlabel('Product Category')\n",
    "plt.ylabel('Total Sales ($)')\n",
    "plt.xticks(rotation=45)\n",
    "\n",
    "# Display the plot\n",
    "plt.show()"
   ]
  },
  {
   "cell_type": "markdown",
   "id": "1bc699a4",
   "metadata": {},
   "source": [
    "We can see that the top three products are Coffee, Tea, and Coffee Beans"
   ]
  },
  {
   "cell_type": "markdown",
   "id": "8dfb0687",
   "metadata": {},
   "source": [
    "### What kinds of customers generate the most sales? "
   ]
  },
  {
   "cell_type": "markdown",
   "id": "0fbfc285",
   "metadata": {},
   "source": [
    "**Bar Plot of Total Sales by Customer Generation**\n",
    "\n",
    "We'll group the data by customer_generation and sum the line_item_amount to get the total sales for each customer generation."
   ]
  },
  {
   "cell_type": "code",
   "execution_count": 8,
   "id": "2aadfb23",
   "metadata": {},
   "outputs": [
    {
     "data": {
      "text/plain": [
       "customer_generation\n",
       "Younger Millennials    83.15\n",
       "Older Millennials      38.20\n",
       "Gen Z                  36.60\n",
       "Gen X                  29.45\n",
       "Baby Boomers           25.50\n",
       "Name: line_item_amount, dtype: float64"
      ]
     },
     "execution_count": 8,
     "metadata": {},
     "output_type": "execute_result"
    }
   ],
   "source": [
    "# Group by customer_generation and sum the line_item_amount\n",
    "total_sales_by_generation = df.groupby('customer_generation')['line_item_amount'].sum()\n",
    "\n",
    "# Sort the results to identify the generations with the highest sales\n",
    "sorted_sales_by_generation = total_sales_by_generation.sort_values(ascending=False)\n",
    "\n",
    "# Display the results\n",
    "sorted_sales_by_generation\n"
   ]
  },
  {
   "cell_type": "code",
   "execution_count": 9,
   "id": "bcc09854",
   "metadata": {},
   "outputs": [
    {
     "data": {
      "image/png": "[encoded data removed]",
      "text/plain": [
       "<Figure size 1000x600 with 1 Axes>"
      ]
     },
     "metadata": {},
     "output_type": "display_data"
    }
   ],
   "source": [
    "# Plotting the bar chart with the colorblind-friendly palette\n",
    "plt.figure(figsize=(10, 6))\n",
    "sorted_sales_by_generation.plot(kind='bar', color=colorblind_palette)\n",
    "\n",
    "# Adding title and labels\n",
    "plt.title('Total Sales by Customer Generation')\n",
    "plt.xlabel('Customer Generation')\n",
    "plt.ylabel('Total Sales ($)')\n",
    "plt.xticks(rotation=45)\n",
    "\n",
    "# Display the plot\n",
    "plt.show()\n"
   ]
  },
  {
   "cell_type": "markdown",
   "id": "1a46ad2a",
   "metadata": {},
   "source": [
    "This bar plot shows that Younger Mellennials purchase more than double the total sales that the next generation does, Older Millennials. I'm a bit suprised to see a huge difference in sales. I did imagine Millennials would be the ones who purchased more at the coffee shops. No suprise to see Baby Boomers last though."
   ]
  },
  {
   "cell_type": "markdown",
   "id": "0805926a",
   "metadata": {},
   "source": [
    "We can now answer, which segment of its customer base should the company target a marketing campaign towards? The most valuable customer group, Younger Millennials. Being in a slighly different life stage, the company should make an effort to target Older Millennials as well. Out of the top three, they would have the most purchasing power. I did want to mention Gen Z, as they would more than likely replace Younger Millennials in the near future. I do want to iterate that there isn't significant enough data to support any claims made in this notebook."
   ]
  }
 ],
 "metadata": {
  "kernelspec": {
   "display_name": "Python 3 (ipykernel)",
   "language": "python",
   "name": "python3"
  },
  "language_info": {
   "codemirror_mode": {
    "name": "ipython",
    "version": 3
   },
   "file_extension": ".py",
   "mimetype": "text/x-python",
   "name": "python",
   "nbconvert_exporter": "python",
   "pygments_lexer": "ipython3",
   "version": "3.11.5"
  }
 },
 "nbformat": 4,
 "nbformat_minor": 5
}
